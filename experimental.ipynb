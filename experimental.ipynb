{
 "cells": [
  {
   "cell_type": "code",
   "execution_count": null,
   "metadata": {},
   "outputs": [],
   "source": [
    "import os\n",
    "from dotenv import load_dotenv\n",
    "load_dotenv()\n",
    "from langchain_ollama import ChatOllama"
   ]
  },
  {
   "cell_type": "code",
   "execution_count": null,
   "metadata": {},
   "outputs": [],
   "source": [
    "# url = \"http://149.202.125.247:8080/ollama/\"\n",
    "# client_kwargs = {\n",
    "#     \"headers\": {\n",
    "#         \"Authorization\": f\"Bearer {self.api_key}\",\n",
    "#         \"Content-Type\": \"application/json\",\n",
    "#     },\n",
    "# }\n",
    "# self.llm = ChatOllama(\n",
    "#     model=model,\n",
    "#     base_url=url,\n",
    "#     client_kwargs=client_kwargs,\n",
    "# )"
   ]
  }
 ],
 "metadata": {
  "kernelspec": {
   "display_name": "env",
   "language": "python",
   "name": "env"
  },
  "language_info": {
   "codemirror_mode": {
    "name": "ipython",
    "version": 3
   },
   "file_extension": ".py",
   "mimetype": "text/x-python",
   "name": "python",
   "nbconvert_exporter": "python",
   "pygments_lexer": "ipython3",
   "version": "3.11.9"
  }
 },
 "nbformat": 4,
 "nbformat_minor": 2
}
